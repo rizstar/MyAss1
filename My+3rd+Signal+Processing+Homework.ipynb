{
 "cells": [
  {
   "cell_type": "code",
   "execution_count": 1,
   "metadata": {
    "collapsed": true
   },
   "outputs": [],
   "source": [
    "#Loading all images and converting them to gray form\n",
    "import sys\n",
    "from PIL import Image\n",
    "from pylab import *\n",
    "from math import *\n",
    "import cv2\n",
    "import numpy as np\n",
    "#car1\n",
    "img = cv2.imread(\"assim/car1.jpg\", 0)\n",
    "cv2.imshow('car1',img)\n",
    "#car2\n",
    "car2 = cv2.imread(\"assim/car2.jpg\", 0)\n",
    "cv2.imshow('car2',car2)\n",
    "#car3\n",
    "car3 = cv2.imread(\"assim/car3.jpg\", 0)\n",
    "cv2.imshow('car3',car3)\n",
    "#car4\n",
    "car4 = cv2.imread(\"assim/car4.jpg\", 0)\n",
    "cv2.imshow('car4',car4)\n",
    "#car5\n",
    "car5 = cv2.imread(\"assim/car5.jpg\", 0)\n",
    "cv2.imshow('car5',car5)\n",
    "#car6\n",
    "car6 = cv2.imread(\"assim/car6.jpg\", 0)\n",
    "cv2.imshow('car6',car6)\n",
    "#car7\n",
    "car7 = cv2.imread(\"assim/car7.jpg\", 0)\n",
    "cv2.imshow('car7',car7)\n",
    "#car8\n",
    "car8 = cv2.imread(\"assim/car8.jpg\", 0)\n",
    "cv2.imshow('car8',car8)\n",
    "#prof1\n",
    "prof1 = cv2.imread(\"assim/prof1.jpg\", 0)\n",
    "cv2.imshow('prof1',prof1)\n",
    "#prof2\n",
    "prof2 = cv2.imread(\"assim/prof2.jpg\", 0)\n",
    "cv2.imshow('prof2',prof2)\n",
    "#prof3\n",
    "prof3 = cv2.imread(\"assim/prof3.jpg\", 0)\n",
    "cv2.imshow('prof3',prof3)\n",
    "cv2.waitKey(0)\n",
    "cv2.destroyAllWindows()"
   ]
  },
  {
   "cell_type": "code",
   "execution_count": 2,
   "metadata": {
    "collapsed": true
   },
   "outputs": [],
   "source": [
    "#calculating and extracting the ROI of each image\n",
    "#ROI extraction\n",
    "ROI = img[705:1051,423:1121] \n",
    "cv2.imshow('ROI',ROI)\n",
    "#ROI1\n",
    "ROI2 = car2[639:982,665:1309] \n",
    "cv2.imshow('ROI2',ROI2)\n",
    "#ROI3\n",
    "ROI3 = car3[537:810,687:1138] \n",
    "cv2.imshow('ROI3',ROI3)\n",
    "#ROI4\n",
    "ROI4 = car4[537:844,848:1429] \n",
    "cv2.imshow('ROI4',ROI4)\n",
    "#ROI5\n",
    "ROI5 = car5[750:1102,277:1090] \n",
    "cv2.imshow('ROI5',ROI5)\n",
    "#ROI6\n",
    "ROI6 = car6[769:1110,256:1065] \n",
    "cv2.imshow('ROI6',ROI6)\n",
    "#ROI7\n",
    "ROI7 = car7[720:989,480:1088] \n",
    "cv2.imshow('ROI7',ROI7)\n",
    "#ROI8\n",
    "ROI8 = car8[761:893,1020:1296]\n",
    "cv2.imshow('ROI8',ROI8)\n",
    "#ROI9\n",
    "ROI9 = prof1[348:430,277:369]\n",
    "cv2.imshow('ROI9',ROI9)\n",
    "#ROI10\n",
    "ROI10 = prof2[386:450,268:345]\n",
    "cv2.imshow('ROI10',ROI10)\n",
    "#ROI11\n",
    "ROI11 = prof3[386:460,279:374]\n",
    "cv2.imshow('ROI11',ROI11)\n",
    "# Crop from x, y, w, h -> 100, 200, 300, 400\n",
    "# NOTE: its img[y: y + h, x: x + w] and *not* img[x: x + w, y: y + h]\n",
    "# Order = Start y:End y, Start y:End y\n",
    "cv2.waitKey(0)\n",
    "cv2.destroyAllWindows()"
   ]
  },
  {
   "cell_type": "code",
   "execution_count": 3,
   "metadata": {
    "collapsed": true
   },
   "outputs": [],
   "source": [
    "#Erosion Morphology of each image\n",
    "kernel = np.ones((5,5),np.uint8)\n",
    "erosion = cv2.erode(ROI,kernel,iterations = 1)\n",
    "cv2.imshow('erosion',erosion)\n",
    "#Erosion2\n",
    "kernel = np.ones((5,5),np.uint8)\n",
    "erosion2 = cv2.erode(ROI2,kernel,iterations = 1)\n",
    "cv2.imshow('erosion2',ROI2)\n",
    "#Erosion3\n",
    "kernel = np.ones((5,5),np.uint8)\n",
    "erosion3 = cv2.erode(ROI3,kernel,iterations = 1)\n",
    "cv2.imshow('erosion3',ROI3)\n",
    "#Erosion4\n",
    "kernel = np.ones((5,5),np.uint8)\n",
    "erosion4 = cv2.erode(ROI4,kernel,iterations = 1)\n",
    "cv2.imshow('erosion4',ROI4)\n",
    "#Erosion5\n",
    "kernel = np.ones((5,5),np.uint8)\n",
    "erosion5 = cv2.erode(ROI5,kernel,iterations = 1)\n",
    "cv2.imshow('erosion5',ROI5)\n",
    "#Erosion6\n",
    "kernel = np.ones((5,5),np.uint8)\n",
    "erosion6 = cv2.erode(ROI6,kernel,iterations = 1)\n",
    "cv2.imshow('erosion6',ROI6)\n",
    "#Erosion7\n",
    "kernel = np.ones((5,5),np.uint8)\n",
    "erosion7 = cv2.erode(ROI7,kernel,iterations = 1)\n",
    "cv2.imshow('erosion7',ROI7)\n",
    "#Erosion8\n",
    "kernel = np.ones((5,5),np.uint8)\n",
    "erosion8 = cv2.erode(ROI8,kernel,iterations = 1)\n",
    "cv2.imshow('erosion8',ROI8)\n",
    "#Erosion9\n",
    "kernel = np.ones((5,5),np.uint8)\n",
    "erosion9 = cv2.erode(ROI9,kernel,iterations = 1)\n",
    "cv2.imshow('erosion9',ROI9)\n",
    "#Erosion10\n",
    "kernel = np.ones((5,5),np.uint8)\n",
    "erosion10 = cv2.erode(ROI10,kernel,iterations = 1)\n",
    "cv2.imshow('erosion10',ROI10)\n",
    "#Erosion11\n",
    "kernel = np.ones((5,5),np.uint8)\n",
    "erosion11 = cv2.erode(ROI11,kernel,iterations = 1)\n",
    "cv2.imshow('erosion11',ROI11)\n",
    "cv2.waitKey(0)\n",
    "cv2.destroyAllWindows()"
   ]
  },
  {
   "cell_type": "code",
   "execution_count": 4,
   "metadata": {
    "collapsed": false
   },
   "outputs": [],
   "source": [
    "#Dilation Morphology of each image\n",
    "dilation = cv2.dilate(erosion,kernel,iterations = 1)\n",
    "cv2.imshow('dilation',dilation)\n",
    "#dilation2\n",
    "dilation2 = cv2.dilate(erosion2,kernel,iterations = 1)\n",
    "cv2.imshow('dilation2',dilation2)\n",
    "#dilation3\n",
    "dilation3 = cv2.dilate(erosion3,kernel,iterations = 1)\n",
    "cv2.imshow('dilation3',dilation3)\n",
    "#dilation4\n",
    "dilation4 = cv2.dilate(erosion4,kernel,iterations = 1)\n",
    "cv2.imshow('dilation4',dilation4)\n",
    "#dilation5\n",
    "dilation5 = cv2.dilate(erosion5,kernel,iterations = 1)\n",
    "cv2.imshow('dilation5',dilation5)\n",
    "#dilation6\n",
    "dilation6 = cv2.dilate(erosion6,kernel,iterations = 1)\n",
    "cv2.imshow('dilation6',dilation6)\n",
    "#dilation7\n",
    "dilation7 = cv2.dilate(erosion7,kernel,iterations = 1)\n",
    "cv2.imshow('dilation7',dilation7)\n",
    "#dilation8\n",
    "dilation8 = cv2.dilate(erosion8,kernel,iterations = 1)\n",
    "cv2.imshow('dilation8',dilation8)\n",
    "#dilation9\n",
    "dilation9 = cv2.dilate(erosion9,kernel,iterations = 1)\n",
    "cv2.imshow('dilation9',ROI9)\n",
    "#dilation10\n",
    "dilation10 = cv2.dilate(erosion10,kernel,iterations = 1)\n",
    "cv2.imshow('dilation10',ROI10)\n",
    "#dilation11\n",
    "dilation11 = cv2.dilate(erosion11,kernel,iterations = 1)\n",
    "cv2.imshow('dilation11',ROI11)\n",
    "cv2.waitKey(0)\n",
    "cv2.destroyAllWindows()"
   ]
  },
  {
   "cell_type": "code",
   "execution_count": 5,
   "metadata": {
    "collapsed": true
   },
   "outputs": [],
   "source": [
    "#Opening Morphology of each image\n",
    "opening = cv2.morphologyEx(dilation, cv2.MORPH_OPEN, kernel)\n",
    "cv2.imshow('opening',opening)\n",
    "#Opening2\n",
    "opening2 = cv2.morphologyEx(dilation2, cv2.MORPH_OPEN, kernel)\n",
    "cv2.imshow('opening2',opening2)\n",
    "#Opening3\n",
    "opening3 = cv2.morphologyEx(dilation3, cv2.MORPH_OPEN, kernel)\n",
    "cv2.imshow('opening3',opening3)\n",
    "#Opening4\n",
    "opening4 = cv2.morphologyEx(dilation4, cv2.MORPH_OPEN, kernel)\n",
    "cv2.imshow('opening4',opening4)\n",
    "#Opening5\n",
    "opening5 = cv2.morphologyEx(dilation5, cv2.MORPH_OPEN, kernel)\n",
    "cv2.imshow('opening5',opening5)\n",
    "#Opening6\n",
    "opening6 = cv2.morphologyEx(dilation6, cv2.MORPH_OPEN, kernel)\n",
    "cv2.imshow('opening6',opening6)\n",
    "#Opening7\n",
    "opening7 = cv2.morphologyEx(dilation7, cv2.MORPH_OPEN, kernel)\n",
    "cv2.imshow('opening7',opening7)\n",
    "#Opening8\n",
    "opening8 = cv2.morphologyEx(dilation8, cv2.MORPH_OPEN, kernel)\n",
    "cv2.imshow('opening8',opening8)\n",
    "#Opening9\n",
    "opening9 = cv2.morphologyEx(dilation9, cv2.MORPH_OPEN, kernel)\n",
    "cv2.imshow('opening9',ROI9)\n",
    "#Opening10\n",
    "opening10 = cv2.morphologyEx(dilation10, cv2.MORPH_OPEN, kernel)\n",
    "cv2.imshow('opening10',ROI10)\n",
    "#Opening11\n",
    "opening11 = cv2.morphologyEx(dilation11, cv2.MORPH_OPEN, kernel)\n",
    "cv2.imshow('opening11',ROI11)\n",
    "cv2.waitKey(0)\n",
    "cv2.destroyAllWindows()"
   ]
  },
  {
   "cell_type": "code",
   "execution_count": 6,
   "metadata": {
    "collapsed": true
   },
   "outputs": [],
   "source": [
    "#Closing Morphology of each image\n",
    "closing = cv2.morphologyEx(opening, cv2.MORPH_CLOSE, kernel)\n",
    "cv2.imshow('closing',closing)\n",
    "#Closing2\n",
    "closing2 = cv2.morphologyEx(opening2, cv2.MORPH_CLOSE, kernel)\n",
    "cv2.imshow('closing2',closing2)\n",
    "#Closing3\n",
    "closing3 = cv2.morphologyEx(opening2, cv2.MORPH_CLOSE, kernel)\n",
    "cv2.imshow('closing3',closing3)\n",
    "#Closing4\n",
    "closing4 = cv2.morphologyEx(opening4, cv2.MORPH_CLOSE, kernel)\n",
    "cv2.imshow('closing4',closing4)\n",
    "#Closing5\n",
    "closing5 = cv2.morphologyEx(opening5, cv2.MORPH_CLOSE, kernel)\n",
    "cv2.imshow('closing5',closing5)\n",
    "#Closing6\n",
    "closing6 = cv2.morphologyEx(opening6, cv2.MORPH_CLOSE, kernel)\n",
    "cv2.imshow('closing6',closing6)\n",
    "#Closing7\n",
    "closing7 = cv2.morphologyEx(opening7, cv2.MORPH_CLOSE, kernel)\n",
    "cv2.imshow('closing7',closing7)\n",
    "#Closing8\n",
    "closing8 = cv2.morphologyEx(opening8, cv2.MORPH_CLOSE, kernel)\n",
    "cv2.imshow('closing8',closing8)\n",
    "#Closing9\n",
    "closing9 = cv2.morphologyEx(opening9, cv2.MORPH_CLOSE, kernel)\n",
    "cv2.imshow('closing9',ROI9)\n",
    "#Closing10\n",
    "closing10 = cv2.morphologyEx(opening10, cv2.MORPH_CLOSE, kernel)\n",
    "cv2.imshow('closing10',ROI10)\n",
    "#Closing11\n",
    "closing11 = cv2.morphologyEx(opening11, cv2.MORPH_CLOSE, kernel)\n",
    "cv2.imshow('closing11',ROI11)\n",
    "cv2.waitKey(0)\n",
    "cv2.destroyAllWindows()"
   ]
  },
  {
   "cell_type": "code",
   "execution_count": 7,
   "metadata": {
    "collapsed": false
   },
   "outputs": [
    {
     "data": {
      "text/plain": [
       "-1"
      ]
     },
     "execution_count": 7,
     "metadata": {},
     "output_type": "execute_result"
    }
   ],
   "source": [
    "# Applying Canny Edge detection to each image\n",
    "canny_image = cv2.Canny(closing,250,255)\n",
    "cv2.imshow(\"Image after applying Canny\",canny_image)\n",
    "#Canny2\n",
    "canny_image2 = cv2.Canny(closing2,250,255)\n",
    "cv2.imshow(\"Image after applying Canny2\",canny_image2)\n",
    "#Canny3\n",
    "canny_image3 = cv2.Canny(closing3,250,255)\n",
    "cv2.imshow(\"Image after applying Canny3\",canny_image3)\n",
    "#Canny4\n",
    "canny_image4 = cv2.Canny(closing4,250,255)\n",
    "cv2.imshow(\"Image after applying Canny4\",canny_image4)\n",
    "#Canny5\n",
    "canny_image5 = cv2.Canny(closing5,250,255)\n",
    "cv2.imshow(\"Image after applying Canny5\",canny_image5)\n",
    "#Canny6\n",
    "canny_image6 = cv2.Canny(closing6,250,255)\n",
    "cv2.imshow(\"Image after applying Canny6\",canny_image6)\n",
    "#Canny7\n",
    "canny_image7 = cv2.Canny(closing7,250,255)\n",
    "cv2.imshow(\"Image after applying Canny7\",canny_image7)\n",
    "#Canny8\n",
    "canny_image8 = cv2.Canny(closing8,250,255)\n",
    "cv2.imshow(\"Image after applying Canny8\",canny_image8)\n",
    "#Canny9\n",
    "canny_image9 = cv2.Canny(closing9,250,255)\n",
    "cv2.imshow(\"Image after applying Canny9\",canny_image9)\n",
    "#Canny10\n",
    "canny_image10 = cv2.Canny(closing10,250,255)\n",
    "cv2.imshow(\"Image after applying Canny10\",canny_image10)\n",
    "#Canny11\n",
    "canny_image11 = cv2.Canny(closing11,250,255)\n",
    "cv2.imshow(\"Image after applying Canny11\",canny_image11)\n",
    "cv2.waitKey()"
   ]
  },
  {
   "cell_type": "code",
   "execution_count": 8,
   "metadata": {
    "collapsed": false
   },
   "outputs": [
    {
     "data": {
      "text/plain": [
       "-1"
      ]
     },
     "execution_count": 8,
     "metadata": {},
     "output_type": "execute_result"
    }
   ],
   "source": [
    "#Noise removal\n",
    "noise_removal = cv2.bilateralFilter(canny_image,9,75,75)\n",
    "cv2.imshow(\"Noise Removed Image\",noise_removal)\n",
    "#Noise removal2\n",
    "noise_removal2 = cv2.bilateralFilter(canny_image2,9,75,75)\n",
    "cv2.imshow(\"Noise Removed Image2\",noise_removal2)\n",
    "#Noise removal3\n",
    "noise_removal3 = cv2.bilateralFilter(canny_image3,9,75,75)\n",
    "cv2.imshow(\"Noise Removed Image3\",noise_removal3)\n",
    "#Noise removal4\n",
    "noise_removal4 = cv2.bilateralFilter(canny_image4,9,75,75)\n",
    "cv2.imshow(\"Noise Removed Image4\",noise_removal4)\n",
    "#Noise removal5\n",
    "noise_removal5 = cv2.bilateralFilter(canny_image5,9,75,75)\n",
    "cv2.imshow(\"Noise Removed Image5\",noise_removal5)\n",
    "#Noise removal6\n",
    "noise_removal6 = cv2.bilateralFilter(canny_image6,9,75,75)\n",
    "cv2.imshow(\"Noise Removed Image6\",noise_removal6)\n",
    "#Noise removal7\n",
    "noise_removal7 = cv2.bilateralFilter(canny_image7,9,75,75)\n",
    "cv2.imshow(\"Noise Removed Image7\",noise_removal7)\n",
    "#Noise removal8\n",
    "noise_removal8 = cv2.bilateralFilter(canny_image8,9,75,75)\n",
    "cv2.imshow(\"Noise Removed Image8\",noise_removal8)\n",
    "#Noise removal9\n",
    "noise_removal9 = cv2.bilateralFilter(canny_image9,9,75,75)\n",
    "cv2.imshow(\"Noise Removed Image9\",noise_removal9)\n",
    "#Noise removal10\n",
    "noise_removal10 = cv2.bilateralFilter(canny_image10,9,75,75)\n",
    "cv2.imshow(\"Noise Removed Image10\",noise_removal10)\n",
    "#Noise removal11\n",
    "noise_removal11 = cv2.bilateralFilter(canny_image11,9,75,75)\n",
    "cv2.imshow(\"Noise Removed Image11\",noise_removal11)\n",
    "cv2.waitKey()"
   ]
  },
  {
   "cell_type": "code",
   "execution_count": 9,
   "metadata": {
    "collapsed": false
   },
   "outputs": [
    {
     "data": {
      "text/plain": [
       "-1"
      ]
     },
     "execution_count": 9,
     "metadata": {},
     "output_type": "execute_result"
    }
   ],
   "source": [
    "#closing after noise removal\n",
    "closing_noise = cv2.morphologyEx(noise_removal, cv2.MORPH_CLOSE, kernel)\n",
    "cv2.imshow('closing_noise',closing_noise)\n",
    "#closing after noise2\n",
    "closing_noise2 = cv2.morphologyEx(noise_removal2, cv2.MORPH_CLOSE, kernel)\n",
    "cv2.imshow('closing_noise2',closing_noise2)\n",
    "#closing after noise3\n",
    "closing_noise3 = cv2.morphologyEx(noise_removal3, cv2.MORPH_CLOSE, kernel)\n",
    "cv2.imshow('closing_noise3',closing_noise3)\n",
    "#closing after noise4\n",
    "closing_noise4 = cv2.morphologyEx(noise_removal4, cv2.MORPH_CLOSE, kernel)\n",
    "cv2.imshow('closing_noise4',closing_noise4)\n",
    "#closing after noise5\n",
    "closing_noise5 = cv2.morphologyEx(noise_removal5, cv2.MORPH_CLOSE, kernel)\n",
    "cv2.imshow('closing_noise5',closing_noise5)\n",
    "#closing after noise6\n",
    "closing_noise6 = cv2.morphologyEx(noise_removal6, cv2.MORPH_CLOSE, kernel)\n",
    "cv2.imshow('closing_noise6',closing_noise6)\n",
    "#closing after noise7\n",
    "closing_noise7 = cv2.morphologyEx(noise_removal7, cv2.MORPH_CLOSE, kernel)\n",
    "cv2.imshow('closing_noise7',closing_noise7)\n",
    "#closing after noise8\n",
    "closing_noise9 = cv2.morphologyEx(noise_removal9, cv2.MORPH_CLOSE, kernel)\n",
    "cv2.imshow('closing_noise9',closing_noise9)\n",
    "#closing after noise10\n",
    "closing_noise10 = cv2.morphologyEx(noise_removal10, cv2.MORPH_CLOSE, kernel)\n",
    "cv2.imshow('closing_noise10',closing_noise10)\n",
    "#closing after noise11\n",
    "closing_noise11 = cv2.morphologyEx(noise_removal11, cv2.MORPH_CLOSE, kernel)\n",
    "cv2.imshow('closing_noise11',closing_noise11)\n",
    "cv2.waitKey()"
   ]
  },
  {
   "cell_type": "code",
   "execution_count": 10,
   "metadata": {
    "collapsed": false
   },
   "outputs": [
    {
     "data": {
      "text/plain": [
       "-1"
      ]
     },
     "execution_count": 10,
     "metadata": {},
     "output_type": "execute_result"
    }
   ],
   "source": [
    "#dilation after closing noise\n",
    "dilation_cn = cv2.dilate(closing_noise,kernel,iterations = 1)\n",
    "cv2.imshow('dilation_cn',dilation_cn)\n",
    "#dilation after closing noise2\n",
    "dilation_cn2 = cv2.dilate(closing_noise2,kernel,iterations = 1)\n",
    "cv2.imshow('dilation_cn2',dilation_cn2)\n",
    "#dilation after closing noise3\n",
    "dilation_cn3 = cv2.dilate(closing_noise3,kernel,iterations = 1)\n",
    "cv2.imshow('dilation_cn3',dilation_cn3)\n",
    "#dilation after closing noise4\n",
    "dilation_cn4 = cv2.dilate(closing_noise4,kernel,iterations = 1)\n",
    "cv2.imshow('dilation_cn4',dilation_cn4)\n",
    "#dilation after closing noise5\n",
    "dilation_cn5 = cv2.dilate(closing_noise5,kernel,iterations = 1)\n",
    "cv2.imshow('dilation_cn5',dilation_cn5)\n",
    "#dilation after closing noise6\n",
    "dilation_cn6 = cv2.dilate(closing_noise6,kernel,iterations = 1)\n",
    "cv2.imshow('dilation_cn6',dilation_cn6)\n",
    "#dilation after closing noise7\n",
    "dilation_cn7 = cv2.dilate(closing_noise7,kernel,iterations = 1)\n",
    "cv2.imshow('dilation_cn7',dilation_cn7)\n",
    "#dilation after closing noise8\n",
    "dilation_cn8 = cv2.dilate(closing_noise2,kernel,iterations = 1)\n",
    "cv2.imshow('dilation_cn8',dilation_cn8)\n",
    "#dilation after closing noise9\n",
    "dilation_cn9 = cv2.dilate(closing_noise9,kernel,iterations = 1)\n",
    "cv2.imshow('dilation_cn9',dilation_cn9)\n",
    "#dilation after closing noise10\n",
    "dilation_cn10 = cv2.dilate(closing_noise10,kernel,iterations = 1)\n",
    "cv2.imshow('dilation_cn10',dilation_cn10)\n",
    "#dilation after closing noise11\n",
    "dilation_cn11 = cv2.dilate(closing_noise11,kernel,iterations = 1)\n",
    "cv2.imshow('dilation_cn11',dilation_cn11)\n",
    "cv2.waitKey()"
   ]
  },
  {
   "cell_type": "code",
   "execution_count": 11,
   "metadata": {
    "collapsed": false
   },
   "outputs": [
    {
     "data": {
      "text/plain": [
       "-1"
      ]
     },
     "execution_count": 11,
     "metadata": {},
     "output_type": "execute_result"
    }
   ],
   "source": [
    "#Top Hat mophological operation on each images\n",
    "tophat = cv2.morphologyEx(canny_image, cv2.MORPH_TOPHAT, kernel)\n",
    "cv2.imshow('tophat',tophat)\n",
    "tophat2 = cv2.morphologyEx(canny_image2, cv2.MORPH_TOPHAT, kernel)\n",
    "cv2.imshow('tophat2',tophat2)\n",
    "tophat3 = cv2.morphologyEx(canny_image3, cv2.MORPH_TOPHAT, kernel)\n",
    "cv2.imshow('tophat3',tophat3)\n",
    "tophat4 = cv2.morphologyEx(canny_image4, cv2.MORPH_TOPHAT, kernel)\n",
    "cv2.imshow('tophat4',tophat4)\n",
    "tophat5 = cv2.morphologyEx(canny_image5, cv2.MORPH_TOPHAT, kernel)\n",
    "cv2.imshow('tophat5',tophat5)\n",
    "tophat6 = cv2.morphologyEx(canny_image6, cv2.MORPH_TOPHAT, kernel)\n",
    "cv2.imshow('tophat6',tophat6)\n",
    "tophat7 = cv2.morphologyEx(canny_image7, cv2.MORPH_TOPHAT, kernel)\n",
    "cv2.imshow('tophat7',tophat7)\n",
    "tophat8 = cv2.morphologyEx(canny_image8, cv2.MORPH_TOPHAT, kernel)\n",
    "cv2.imshow('tophat8',tophat8)\n",
    "tophat9 = cv2.morphologyEx(canny_image9, cv2.MORPH_TOPHAT, kernel)\n",
    "cv2.imshow('tophat9',tophat9)\n",
    "tophat10 = cv2.morphologyEx(canny_image10, cv2.MORPH_TOPHAT, kernel)\n",
    "cv2.imshow('tophat10',tophat10)\n",
    "tophat11 = cv2.morphologyEx(canny_image11, cv2.MORPH_TOPHAT, kernel)\n",
    "cv2.imshow('tophat11',tophat11)\n",
    "cv2.waitKey()\n"
   ]
  },
  {
   "cell_type": "code",
   "execution_count": 12,
   "metadata": {
    "collapsed": false
   },
   "outputs": [
    {
     "data": {
      "text/plain": [
       "-1"
      ]
     },
     "execution_count": 12,
     "metadata": {},
     "output_type": "execute_result"
    }
   ],
   "source": [
    "# Black Hat mophologicaal operation on each images\n",
    "blachat = cv2.morphologyEx(tophat, cv2.MORPH_BLACKHAT, kernel)\n",
    "cv2.imshow('blachat',blachat)\n",
    "blachat2 = cv2.morphologyEx(canny_image2, cv2.MORPH_BLACKHAT, kernel)\n",
    "cv2.imshow('blachat2',blachat2)\n",
    "blachat3 = cv2.morphologyEx(canny_image3, cv2.MORPH_BLACKHAT, kernel)\n",
    "cv2.imshow('blachat3',blachat3)\n",
    "blachat4 = cv2.morphologyEx(canny_image4, cv2.MORPH_BLACKHAT, kernel)\n",
    "cv2.imshow('blachat',blachat4)\n",
    "blachat5 = cv2.morphologyEx(canny_image5, cv2.MORPH_BLACKHAT, kernel)\n",
    "cv2.imshow('blachat5',blachat5)\n",
    "blachat6 = cv2.morphologyEx(canny_image6, cv2.MORPH_BLACKHAT, kernel)\n",
    "cv2.imshow('blachat6',blachat6)\n",
    "blachat7 = cv2.morphologyEx(canny_image7, cv2.MORPH_BLACKHAT, kernel)\n",
    "cv2.imshow('blachat7',blachat7)\n",
    "blachat8 = cv2.morphologyEx(canny_image8, cv2.MORPH_BLACKHAT, kernel)\n",
    "cv2.imshow('blachat8',blachat8)\n",
    "blachat9 = cv2.morphologyEx(canny_image9, cv2.MORPH_BLACKHAT, kernel)\n",
    "cv2.imshow('blachat9',blachat9)\n",
    "blachat10 = cv2.morphologyEx(canny_image10, cv2.MORPH_BLACKHAT, kernel)\n",
    "cv2.imshow('blachat10',blachat10)\n",
    "blachat11 = cv2.morphologyEx(canny_image11, cv2.MORPH_BLACKHAT, kernel)\n",
    "cv2.imshow('blachat11',blachat11)\n",
    "cv2.waitKey()"
   ]
  },
  {
   "cell_type": "code",
   "execution_count": null,
   "metadata": {
    "collapsed": true
   },
   "outputs": [],
   "source": []
  }
 ],
 "metadata": {
  "anaconda-cloud": {},
  "kernelspec": {
   "display_name": "Python [conda root]",
   "language": "python",
   "name": "conda-root-py"
  },
  "language_info": {
   "codemirror_mode": {
    "name": "ipython",
    "version": 3
   },
   "file_extension": ".py",
   "mimetype": "text/x-python",
   "name": "python",
   "nbconvert_exporter": "python",
   "pygments_lexer": "ipython3",
   "version": "3.5.2"
  }
 },
 "nbformat": 4,
 "nbformat_minor": 1
}
