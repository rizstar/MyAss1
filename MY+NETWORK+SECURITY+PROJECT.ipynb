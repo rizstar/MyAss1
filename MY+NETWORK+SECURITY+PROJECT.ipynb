{
 "cells": [
  {
   "cell_type": "code",
   "execution_count": null,
   "metadata": {
    "collapsed": true
   },
   "outputs": [],
   "source": [
    "# Using Deep Learning Approch to detect Malicious URLs\n",
    "# by OKEKE STEPHEN\n",
    "# Requirements\n",
    "# wheel\n",
    "# numpy==1.12.0\n",
    "# pandas==0.19.2\n",
    "# scikit-learn==0.18.1\n",
    "# scipy==0.18.1\n",
    "# sklearn==0.0"
   ]
  },
  {
   "cell_type": "code",
   "execution_count": 23,
   "metadata": {
    "collapsed": true
   },
   "outputs": [],
   "source": [
    "from functools import wraps\n",
    "from flask import Flask\n",
    "from flask import request, Response\n",
    "from subprocess import call\n",
    "from flask import render_template"
   ]
  },
  {
   "cell_type": "code",
   "execution_count": 24,
   "metadata": {
    "collapsed": false
   },
   "outputs": [],
   "source": [
    "from sklearn.feature_extraction.text import CountVectorizer\n",
    "from sklearn.model_selection import train_test_split\n",
    "import pandas as pd\n",
    "import numpy as np\n",
    "import random\n",
    "from sklearn.feature_extraction.text import TfidfVectorizer\n",
    "import sys\n",
    "import os\n",
    "from sklearn.linear_model import LogisticRegression\n",
    "import math\n",
    "from collections import Counter\n",
    "app = Flask(__name__)"
   ]
  },
  {
   "cell_type": "code",
   "execution_count": 25,
   "metadata": {
    "collapsed": true
   },
   "outputs": [],
   "source": [
    "def entropy(s):\n",
    "\tp, lns = Counter(s), float(len(s))\n",
    "\treturn -sum( count/lns * math.log(count/lns, 2) for count in p.values())\n",
    "\n",
    "def getTokens(input):\n",
    "\ttokensBySlash = str(input.encode('utf-8')).split('/')\t#get tokens after splitting by slash\n",
    "\tallTokens = []\n",
    "\tfor i in tokensBySlash:\n",
    "\t\ttokens = str(i).split('-')\t#get tokens after splitting by dash\n",
    "\t\ttokensByDot = []\n",
    "\t\tfor j in range(0,len(tokens)):\n",
    "\t\t\ttempTokens = str(tokens[j]).split('.')\t#get tokens after splitting by dot\n",
    "\t\t\ttokensByDot = tokensByDot + tempTokens\n",
    "\t\tallTokens = allTokens + tokens + tokensByDot\n",
    "\tallTokens = list(set(allTokens))\t#remove redundant tokens\n",
    "\tif 'com' in allTokens:\n",
    "\t\tallTokens.remove('com')\t#removing .com since it occurs a lot of times and it should not be included in our features\n",
    "\treturn allTokens"
   ]
  },
  {
   "cell_type": "code",
   "execution_count": 26,
   "metadata": {
    "collapsed": true
   },
   "outputs": [],
   "source": [
    "def TL():\n",
    "    allurls = './data/data.csv'\t#path to our all urls file\n",
    "    allurlscsv = pd.read_csv(allurls,',',error_bad_lines=False)\t#reading file\n",
    "    allurlsdata = pd.DataFrame(allurlscsv)\t#converting to a dataframe\n",
    "\n",
    "    allurlsdata = np.array(allurlsdata)\t#converting it into an array\n",
    "    random.shuffle(allurlsdata)\t#shuffling\n",
    "\n",
    "    y = [d[1] for d in allurlsdata]\t#all labels \n",
    "    corpus = [d[0] for d in allurlsdata]\t#all urls corresponding to a label (either good or bad)\n",
    "    vectorizer = TfidfVectorizer(tokenizer=getTokens)\t#get a vector for each url but use our customized tokenizer\n",
    "    X = vectorizer.fit_transform(corpus)\t#get the X vector\n",
    "\n",
    "    X_train, X_test, y_train, y_test = train_test_split(X, y, test_size=0.2, random_state=42)\t#split into training and testing set 80/20 ratio\n",
    "\n",
    "    lgs = LogisticRegression()\t#using logistic regression\n",
    "    lgs.fit(X_train, y_train)\n",
    "    print(lgs.score(X_test, y_test))\t#pring the score. It comes out to be 98%\n",
    "    return vectorizer, lgs"
   ]
  },
  {
   "cell_type": "code",
   "execution_count": 34,
   "metadata": {
    "collapsed": false
   },
   "outputs": [],
   "source": [
    "def show_index(path):\n",
    "    X_predict = []\n",
    "    X_predict.append(str(path))\n",
    "    X_predict = vectorizer.transform(X_predict)\n",
    "    y_Predict = lgs.predict(X_predict)\n",
    "    return "
   ]
  },
  {
   "cell_type": "code",
   "execution_count": 35,
   "metadata": {
    "collapsed": false,
    "scrolled": true
   },
   "outputs": [
    {
     "name": "stdout",
     "output_type": "stream",
     "text": [
      "0.983993911503\n"
     ]
    },
    {
     "ename": "SystemExit",
     "evalue": "1",
     "output_type": "error",
     "traceback": [
      "An exception has occurred, use %tb to see the full traceback.\n",
      "\u001b[0;31mSystemExit\u001b[0m\u001b[0;31m:\u001b[0m 1\n"
     ]
    },
    {
     "name": "stderr",
     "output_type": "stream",
     "text": [
      "C:\\Users\\Choi\\Anaconda3\\lib\\site-packages\\IPython\\core\\interactiveshell.py:2889: UserWarning: To exit: use 'exit', 'quit', or Ctrl-D.\n",
      "  warn(\"To exit: use 'exit', 'quit', or Ctrl-D.\", stacklevel=1)\n"
     ]
    }
   ],
   "source": [
    "port = os.getenv('VCAP_APP_PORT', 5000)\n",
    "if __name__ == \"__main__\":\n",
    "    vectorizer, lgs  = TL()\n",
    "    app.run(host='0.0.0.0',port=int(port), debug=True)\n",
    "\n",
    "vectorizer, lgs  = TL()\n",
    "#checking some random URLs. The results come out to be expected. The first two are okay and the last four are malicious/phishing/bad\n",
    "\n",
    "X_predict = ['wikipedia.com','google.com/search=faizanahad','pakistanifacebookforever.com/getpassword.php/','www.radsport-voggel.de/wp-admin/includes/log.exe','ahrenhei.without-transfer.ru/nethost.exe','www.itidea.it/centroesteticosothys/img/_notes/gum.exe']\n",
    "\n",
    "X_predict = vectorizer.transform(X_predict)\n",
    "\n",
    "y_Predict = lgs.predict(X_predict)\n",
    "\n",
    "print(y_Predict)\n",
    "# reference http://fsecurify.com/using-machine-learning-detect-malicious-urls/"
   ]
  },
  {
   "cell_type": "code",
   "execution_count": null,
   "metadata": {
    "collapsed": true
   },
   "outputs": [],
   "source": []
  }
 ],
 "metadata": {
  "anaconda-cloud": {},
  "kernelspec": {
   "display_name": "Python [conda root]",
   "language": "python",
   "name": "conda-root-py"
  },
  "language_info": {
   "codemirror_mode": {
    "name": "ipython",
    "version": 3
   },
   "file_extension": ".py",
   "mimetype": "text/x-python",
   "name": "python",
   "nbconvert_exporter": "python",
   "pygments_lexer": "ipython3",
   "version": "3.5.2"
  }
 },
 "nbformat": 4,
 "nbformat_minor": 1
}
